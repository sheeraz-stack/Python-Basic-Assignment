{
 "cells": [
  {
   "cell_type": "code",
   "execution_count": null,
   "id": "e3213afc",
   "metadata": {},
   "outputs": [],
   "source": [
    "1.In the below elements which of them are values or an expression? eg:- values can be integer or string and expressions will be mathematical operators.\n",
    "\n",
    "Ans-\n",
    "*  - expression\n",
    "'hello' -  value\n",
    "-87.8  - value\n",
    "-   - expression\n",
    "/  - expression\n",
    "+ - expression\n",
    "6 - value"
   ]
  },
  {
   "cell_type": "code",
   "execution_count": null,
   "id": "6270a536",
   "metadata": {},
   "outputs": [],
   "source": [
    "2.What is the difference between string and variable?\n",
    "\n",
    "Ans - Variables are symbols that you can use to store data in a program. and a String is a type of information you would store in a Variable. String can be written  - \"apple\", 'apple'"
   ]
  },
  {
   "cell_type": "code",
   "execution_count": null,
   "id": "8b47a4f7",
   "metadata": {},
   "outputs": [],
   "source": [
    "3.Describe three different data types.\n",
    "\n",
    "Ans - List: the list is used for storing multiple data items in a single variable.\n",
    "Integer: integer can store only numerical values.\n",
    "Float: float can store only floating values such as 233.33, 22.2, etc.\n"
   ]
  },
  {
   "cell_type": "code",
   "execution_count": null,
   "id": "810441cf",
   "metadata": {},
   "outputs": [],
   "source": [
    "4.What is an expression made up of? What do all expressions do?\n",
    "\n",
    "Ans - Expression is made up of values, containers, and mathematical operators (operands)\n",
    "e.g a = 2 + 3     and expressions are used to evaluate the values or represent the result on the screen."
   ]
  },
  {
   "cell_type": "code",
   "execution_count": null,
   "id": "a3642075",
   "metadata": {},
   "outputs": [],
   "source": [
    "5. This assignment statements, like spam = 10. What is the difference between an expression and a statement?\n",
    "\n",
    "Ans - Expression is made up of values, containers, and mathematical operators (operands) and the statement is just like a command that a python interpreter executes like print."
   ]
  },
  {
   "cell_type": "code",
   "execution_count": null,
   "id": "e876ac85",
   "metadata": {},
   "outputs": [],
   "source": [
    "6. After running the following code, what does the variable bacon contain?"
   ]
  },
  {
   "cell_type": "code",
   "execution_count": 10,
   "id": "96fa1095",
   "metadata": {},
   "outputs": [
    {
     "data": {
      "text/plain": [
       "23"
      ]
     },
     "execution_count": 10,
     "metadata": {},
     "output_type": "execute_result"
    }
   ],
   "source": [
    "bacon = 22\n",
    "bacon + 1\n",
    "#Ans - Sol: it gives 23 as execution code "
   ]
  },
  {
   "cell_type": "code",
   "execution_count": null,
   "id": "53925cfc",
   "metadata": {},
   "outputs": [],
   "source": [
    "7. What should the values of the following two terms be?\n",
    "\n",
    "Ans -  it will be the same"
   ]
  },
  {
   "cell_type": "code",
   "execution_count": 7,
   "id": "bb4fa61a",
   "metadata": {},
   "outputs": [
    {
     "data": {
      "text/plain": [
       "'spamspamspam'"
      ]
     },
     "execution_count": 7,
     "metadata": {},
     "output_type": "execute_result"
    }
   ],
   "source": [
    "'spam' + 'spamspam'"
   ]
  },
  {
   "cell_type": "code",
   "execution_count": 8,
   "id": "2d686ae8",
   "metadata": {},
   "outputs": [
    {
     "data": {
      "text/plain": [
       "'spamspamspam'"
      ]
     },
     "execution_count": 8,
     "metadata": {},
     "output_type": "execute_result"
    }
   ],
   "source": [
    "'spam' * 3 "
   ]
  },
  {
   "cell_type": "code",
   "execution_count": null,
   "id": "5b1fa9c3",
   "metadata": {},
   "outputs": [],
   "source": [
    "8. Why is eggs a valid variable name while 100 is invalid?\n",
    "\n",
    "Ans - Variable names cannot begin with a number."
   ]
  },
  {
   "cell_type": "code",
   "execution_count": null,
   "id": "1d8973ed",
   "metadata": {},
   "outputs": [],
   "source": [
    "9. What three functions can be used to get the integer, floating-point number, or string version of a value?\n",
    "\n",
    "Ans -  int() , float() , and str( )"
   ]
  },
  {
   "cell_type": "code",
   "execution_count": null,
   "id": "2b453a3d",
   "metadata": {},
   "outputs": [],
   "source": [
    "10. Why does this expression cause an error? How can you fix it?\n",
    "'I have eaten ' + 99 + ' burritos.'\n",
    "\n",
    "#Because 99 is an integer it cannot be concantenated with strings.\n",
    "Ans - 'I have eaten ' + str(99) + ' burritos.'\n"
   ]
  }
 ],
 "metadata": {
  "kernelspec": {
   "display_name": "Python 3 (ipykernel)",
   "language": "python",
   "name": "python3"
  },
  "language_info": {
   "codemirror_mode": {
    "name": "ipython",
    "version": 3
   },
   "file_extension": ".py",
   "mimetype": "text/x-python",
   "name": "python",
   "nbconvert_exporter": "python",
   "pygments_lexer": "ipython3",
   "version": "3.9.7"
  }
 },
 "nbformat": 4,
 "nbformat_minor": 5
}
