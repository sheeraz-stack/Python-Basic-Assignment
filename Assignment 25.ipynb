{
 "cells": [
  {
   "cell_type": "code",
   "execution_count": null,
   "id": "818fa730",
   "metadata": {},
   "outputs": [],
   "source": [
    "1. What is the difference between enclosing a list comprehension in square brackets and parentheses?\n",
    "\n",
    "Ans: Enclosing a list comprehension in square brackets returns a list.but where as enclosing a list comprehension in parentheses returns a generator object"
   ]
  },
  {
   "cell_type": "code",
   "execution_count": 51,
   "id": "d927b5c9",
   "metadata": {},
   "outputs": [
    {
     "name": "stdout",
     "output_type": "stream",
     "text": [
      "[0, 1, 2, 3, 4, 5, 6, 7, 8, 9] <class 'list'>\n",
      "<generator object <genexpr> at 0x0000028527B17510> <class 'generator'>\n"
     ]
    }
   ],
   "source": [
    "l = [ele for ele in range(10)]\n",
    "print(l, type(l))\n",
    "g = (ele for ele in range(10))\n",
    "print(g, type(g))"
   ]
  },
  {
   "cell_type": "code",
   "execution_count": null,
   "id": "1a45f482",
   "metadata": {},
   "outputs": [],
   "source": [
    "2. What is the relationship between generators and iterators?\n",
    "Ans. An iterator is an object which contains a countable number of values and it is used to iterate over iterable objects like list, tuples etc Using an iterator- iter() keyword is used to create an iterator containing an iterable object. next() keyword is used to call the next element in the iterable object.\n",
    "\n",
    "Generator It is another way of creating iterators in a simple way where it uses the keyword “yield” instead of returning it in a defined function Generators are implemented using a function Here, the yield function returns the data without affecting or exiting the function. It will return a sequence of data in an iterable format where we need to iterate over the sequence to use the data as they won’t store the entire sequence in the memory By using next() function we can iterate the output of generator function"
   ]
  },
  {
   "cell_type": "code",
   "execution_count": 54,
   "id": "ece72bb8",
   "metadata": {},
   "outputs": [
    {
     "name": "stdout",
     "output_type": "stream",
     "text": [
      "Tata\n",
      "Maruti\n",
      "Mahindra\n"
     ]
    }
   ],
   "source": [
    "# iterator\n",
    "iter_list = iter(['Tata', 'Maruti', 'Mahindra'])\n",
    "print(next(iter_list))\n",
    "print(next(iter_list))\n",
    "print(next(iter_list))"
   ]
  },
  {
   "cell_type": "code",
   "execution_count": 55,
   "id": "81751d36",
   "metadata": {},
   "outputs": [],
   "source": [
    "# GEnerator \n",
    "def sq(n):\n",
    "    for i in range(1, n+1):\n",
    "        yield i*i"
   ]
  },
  {
   "cell_type": "code",
   "execution_count": 75,
   "id": "651e3090",
   "metadata": {},
   "outputs": [
    {
     "data": {
      "text/plain": [
       "<generator object sq at 0x0000028527B1DBA0>"
      ]
     },
     "execution_count": 75,
     "metadata": {},
     "output_type": "execute_result"
    }
   ],
   "source": [
    "sq(2)"
   ]
  },
  {
   "cell_type": "code",
   "execution_count": 76,
   "id": "e3c96d38",
   "metadata": {},
   "outputs": [
    {
     "data": {
      "text/plain": [
       "<generator object sq at 0x0000028527B1D7B0>"
      ]
     },
     "execution_count": 76,
     "metadata": {},
     "output_type": "execute_result"
    }
   ],
   "source": [
    "lst = sq(2)\n",
    "lst"
   ]
  },
  {
   "cell_type": "code",
   "execution_count": 77,
   "id": "65d40549",
   "metadata": {},
   "outputs": [
    {
     "name": "stdout",
     "output_type": "stream",
     "text": [
      "1\n",
      "4\n"
     ]
    }
   ],
   "source": [
    "print(next(lst))\n",
    "print(next(lst))"
   ]
  },
  {
   "cell_type": "code",
   "execution_count": null,
   "id": "df6fdf70",
   "metadata": {},
   "outputs": [],
   "source": [
    "3. What are the signs that a function is a generator function?"
   ]
  },
  {
   "cell_type": "code",
   "execution_count": null,
   "id": "1f422dbb",
   "metadata": {},
   "outputs": [],
   "source": [
    "Ans. If a function contains at least one yield statement (it may contain other yield or return statements), it becomes a generator function. Both yield and return will return some value from a function."
   ]
  },
  {
   "cell_type": "code",
   "execution_count": null,
   "id": "6fcc3829",
   "metadata": {},
   "outputs": [],
   "source": [
    "4. What is the purpose of a yield statement?"
   ]
  },
  {
   "cell_type": "code",
   "execution_count": null,
   "id": "353a461c",
   "metadata": {},
   "outputs": [],
   "source": [
    "Ans: The yield statement suspends function’s execution and sends a value back to the caller, but retains enough state to enable function to resume where it is left off. When resumed, the function continues execution immediately after the last yield run. This allows its code to produce a series of values over time, rather than computing them at once and sending them back like a list."
   ]
  },
  {
   "cell_type": "code",
   "execution_count": null,
   "id": "05333719",
   "metadata": {},
   "outputs": [],
   "source": [
    "5. What is the relationship between map calls and list comprehensions? Make a comparison and contrast between the two ?"
   ]
  },
  {
   "cell_type": "code",
   "execution_count": null,
   "id": "8aee8238",
   "metadata": {},
   "outputs": [],
   "source": [
    ".Map function: Suppose we have a function and we want to compute this function for different values in a single line of code . This is where map() function plays its role. map() function returns a map object(which is an iterator) of the results after applying the given function to each item of a given iterable (list, tuple etc.)\n",
    "\n",
    ".If we already have a function defined, it is often good to use map For example, map(sum, myLists) is more neat than [sum(x) for x in myLists]. You gain the elegance of not having to make up a dummy variable (e.g. sum(x) for x... or sum() for ... or sum(readableName) for readableName...) which you have to type twice, just to iterate.\n",
    "\n",
    ".List Comprehension: List Comprehension is a substitute for the lambda function, map(), filter() and reduce()\n",
    "\n",
    "Comparision :\n",
    ".List comprehension is more concise and easier to read as compared to map\n",
    ".List comprehension allows filtering. In map, we have no such facility For example, to print all even numbers in range of 100, we can write [n for n in range(100) if n%2 == 0]. There is no alternate for it in map\n",
    ".List comprehension are used when a list of results is required, where as map only returns a map object and does not return any list.\n",
    ".List comprehension is faster than map when we need to evaluate expressions that are too long or complicated to express\n",
    ".Map is faster in case of calling an already defined function (as no lambda is required)"
   ]
  }
 ],
 "metadata": {
  "kernelspec": {
   "display_name": "Python 3 (ipykernel)",
   "language": "python",
   "name": "python3"
  },
  "language_info": {
   "codemirror_mode": {
    "name": "ipython",
    "version": 3
   },
   "file_extension": ".py",
   "mimetype": "text/x-python",
   "name": "python",
   "nbconvert_exporter": "python",
   "pygments_lexer": "ipython3",
   "version": "3.9.7"
  }
 },
 "nbformat": 4,
 "nbformat_minor": 5
}
