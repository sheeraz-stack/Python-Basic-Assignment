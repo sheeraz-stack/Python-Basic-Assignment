{
 "cells": [
  {
   "cell_type": "code",
   "execution_count": null,
   "id": "b21272ce",
   "metadata": {},
   "outputs": [],
   "source": [
    "1. How do you distinguish between shutil.copy() and shutil.copytree()?\n",
    "\n",
    "Ans: shutil.copy() method is used to copy the contents of a file from one file to another file/folder, it primary takes \n",
    "two arguments src,dest, src represents the file to be copied where as destination refers to the file/folder to where the \n",
    "src data should be copied, if dest is a folder name the src with exact name will be copied to the dest folder, if its a\n",
    "file then the contents of src will be copied to dest where dest retains it name.\n",
    "\n",
    "shutil.copytree() function is used to copy the entire contents of a folder to other folder. it also takes two arguments \n",
    "src & dest, it copies all the content recursively and stores it in dest. the important catch here is dest must not exist\n",
    "prior to this and it will be created during the copy operation. Permissions and times of directories are copied\n",
    "with shutil.copystat() and individual files are copied using shutil.copy2() by default which can be modified using\n",
    "copy_function attribute."
   ]
  },
  {
   "cell_type": "code",
   "execution_count": null,
   "id": "fc5b6bc4",
   "metadata": {},
   "outputs": [],
   "source": [
    "2. What function is used to rename files??\n",
    "\n",
    "Ans: os.rename() function is used to rename files or directories using a python program, this function takes two arguments\n",
    "src and dest, src represents the name file/directory which we want to rename, whereas dest represents the new name of the\n",
    "file/directory."
   ]
  },
  {
   "cell_type": "code",
   "execution_count": null,
   "id": "1754bf19",
   "metadata": {},
   "outputs": [],
   "source": [
    "3. What is the difference between the delete functions in the send2trash and shutil modules?\n",
    "\n",
    "Ans: Shutil module provides a funciton called as shutil.rmtree() which deletes a directory and all its contents. \n",
    "The other functions with similar functionality are os.remove() -> removes a file, os.rmdir() removes a empty directory. \n",
    "The problem with these functions is once a file is deleted. it will be lost permanently, if a file is deleted accidentally\n",
    "using these methods there is no way we can recover the deleted file.\n",
    "\n",
    "Where as send2trash module provides a function called send2trash.send2trash() to delete a file/directory. \n",
    "these methods moves the files/directories to trash folder instead of permanently deleting them. hence if a file/folder is\n",
    "deleted accidentally it can be still recovered from trash folder, if is deleted using the send2trash.send2trash() function. \n",
    "send2trash is not included with python standard libary like os & shutil modules. it needs to be installed explicitly using the command !pip install send2trash"
   ]
  },
  {
   "cell_type": "code",
   "execution_count": null,
   "id": "c6e6eb5e",
   "metadata": {},
   "outputs": [],
   "source": [
    "4.ZipFile objects have a close() method just like File objects’ close() method. What ZipFile method is\n",
    "equivalent to File objects’ open() method?\n",
    "\n",
    "Ans: ZipFile Module provides a method called as zipfile.ZipFile() to read and write to zipFiles. it takes arugments file\n",
    "filename and mode etc zipfile.ZipFile('filename', mode = 'r')"
   ]
  },
  {
   "cell_type": "code",
   "execution_count": null,
   "id": "4efe23fb",
   "metadata": {},
   "outputs": [],
   "source": [
    "5. Create a programme that searches a folder tree for files with a certain file extension (such as .pdf\n",
    "or .jpg). Copy these files from whatever location they are in to a new folder."
   ]
  },
  {
   "cell_type": "code",
   "execution_count": 11,
   "id": "0845586e",
   "metadata": {},
   "outputs": [
    {
     "name": "stdout",
     "output_type": "stream",
     "text": [
      "Looking in C:\\Users\\DELL\\randomFolder for files with extensions of .php, .py\n"
     ]
    }
   ],
   "source": [
    "import os, shutil\n",
    "\n",
    "def selectiveCopy(folder, extensions, destFolder):\n",
    "    folder = os.path.abspath(folder)\n",
    "    destFolder = os.path.abspath(destFolder)\n",
    "    print('Looking in', folder, 'for files with extensions of', ', '.join(extensions))\n",
    "    for foldername, subfolders, filenames in os.walk(folder):\n",
    "        for filename in filenames:\n",
    "            name, extension = os.path.splitext(filename)\n",
    "            if extension in extensions:\n",
    "                fileAbsPath = foldername + os.path.sep + filename\n",
    "                print('Coping', fileAbsPath, 'to', destFolder)\n",
    "                shutil.copy(fileAbsPath, destFolder)\n",
    "\n",
    "extensions = ['.php', '.py']\n",
    "folder = 'randomFolder'\n",
    "destFolder = 'selectiveFolder'\n",
    "selectiveCopy(folder, extensions, destFolder)"
   ]
  }
 ],
 "metadata": {
  "kernelspec": {
   "display_name": "Python 3 (ipykernel)",
   "language": "python",
   "name": "python3"
  },
  "language_info": {
   "codemirror_mode": {
    "name": "ipython",
    "version": 3
   },
   "file_extension": ".py",
   "mimetype": "text/x-python",
   "name": "python",
   "nbconvert_exporter": "python",
   "pygments_lexer": "ipython3",
   "version": "3.9.7"
  }
 },
 "nbformat": 4,
 "nbformat_minor": 5
}
